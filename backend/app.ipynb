{
 "cells": [
  {
   "cell_type": "code",
   "execution_count": 10,
   "metadata": {},
   "outputs": [],
   "source": [
    "import pandas as pd\n",
    "\n",
    "df = pd.read_csv(\"delivery_history.csv\", encoding='latin', keep_default_na=False)\n"
   ]
  },
  {
   "cell_type": "code",
   "execution_count": 11,
   "metadata": {},
   "outputs": [
    {
     "data": {
      "text/plain": [
       "<bound method NDFrame.head of           ID Project Code            PQ # PO / SO # ASN/DN #        Country  \\\n",
       "0          1   100-CI-T01  Pre-PQ Process    SCMS-4    ASN-8  Côte d'Ivoire   \n",
       "1          3   108-VN-T01  Pre-PQ Process   SCMS-13   ASN-85        Vietnam   \n",
       "2          4   100-CI-T01  Pre-PQ Process   SCMS-20   ASN-14  Côte d'Ivoire   \n",
       "3         15   108-VN-T01  Pre-PQ Process   SCMS-78   ASN-50        Vietnam   \n",
       "4         16   108-VN-T01  Pre-PQ Process   SCMS-81   ASN-55        Vietnam   \n",
       "...      ...          ...             ...       ...      ...            ...   \n",
       "10319  86818   103-ZW-T30       FPQ-15197  SO-50020  DN-4307       Zimbabwe   \n",
       "10320  86819   104-CI-T30       FPQ-15259  SO-50102  DN-4313  Côte d'Ivoire   \n",
       "10321  86821   110-ZM-T30       FPQ-14784  SO-49600  DN-4316         Zambia   \n",
       "10322  86822   200-ZW-T30       FPQ-16523  SO-51680  DN-4334       Zimbabwe   \n",
       "10323  86823   103-ZW-T30       FPQ-15197  SO-50022  DN-4336       Zimbabwe   \n",
       "\n",
       "      Managed By  Fulfill Via Vendor INCO Term Shipment Mode  ...  \\\n",
       "0       PMO - US  Direct Drop              EXW           Air  ...   \n",
       "1       PMO - US  Direct Drop              EXW           Air  ...   \n",
       "2       PMO - US  Direct Drop              FCA           Air  ...   \n",
       "3       PMO - US  Direct Drop              EXW           Air  ...   \n",
       "4       PMO - US  Direct Drop              EXW           Air  ...   \n",
       "...          ...          ...              ...           ...  ...   \n",
       "10319   PMO - US     From RDC   N/A - From RDC         Truck  ...   \n",
       "10320   PMO - US     From RDC   N/A - From RDC         Truck  ...   \n",
       "10321   PMO - US     From RDC   N/A - From RDC         Truck  ...   \n",
       "10322   PMO - US     From RDC   N/A - From RDC         Truck  ...   \n",
       "10323   PMO - US     From RDC   N/A - From RDC         Truck  ...   \n",
       "\n",
       "      Unit of Measure (Per Pack) Line Item Quantity Line Item Value  \\\n",
       "0                             30                 19          551.00   \n",
       "1                            240               1000         6200.00   \n",
       "2                            100                500        40000.00   \n",
       "3                             60              31920       127360.80   \n",
       "4                             60              38000       121600.00   \n",
       "...                          ...                ...             ...   \n",
       "10319                         60             166571       599655.60   \n",
       "10320                         60              21072       137389.44   \n",
       "10321                         30             514526      5140114.74   \n",
       "10322                         60              17465       113871.80   \n",
       "10323                         60              36639        72911.61   \n",
       "\n",
       "      Pack Price Unit Price              Manufacturing Site  \\\n",
       "0          29.00       0.97      Ranbaxy Fine Chemicals LTD   \n",
       "1           6.20       0.03       Aurobindo Unit III, India   \n",
       "2          80.00       0.80   ABBVIE GmbH & Co.KG Wiesbaden   \n",
       "3           3.99       0.07   Ranbaxy, Paonta Shahib, India   \n",
       "4           3.20       0.05       Aurobindo Unit III, India   \n",
       "...          ...        ...                             ...   \n",
       "10319       3.60       0.06      Mylan,  H-12 & H-13, India   \n",
       "10320       6.52       0.11    Hetero Unit III Hyderabad IN   \n",
       "10321       9.99       0.33   Cipla Ltd A-42 MIDC Mahar. IN   \n",
       "10322       6.52       0.11  Mylan (formerly Matrix) Nashik   \n",
       "10323       1.99       0.03               Cipla, Goa, India   \n",
       "\n",
       "      First Line Designation          Weight (Kilograms)  \\\n",
       "0                        Yes                          13   \n",
       "1                        Yes                         358   \n",
       "2                        Yes                         171   \n",
       "3                        Yes                        1855   \n",
       "4                        Yes                        7590   \n",
       "...                      ...                         ...   \n",
       "10319                     No     See DN-4307 (ID#:83920)   \n",
       "10320                     No     See DN-4313 (ID#:83921)   \n",
       "10321                     No  Weight Captured Separately   \n",
       "10322                    Yes                        1392   \n",
       "10323                     No  Weight Captured Separately   \n",
       "\n",
       "                       Freight Cost (USD) Line Item Insurance (USD)  \n",
       "0                                  780.34                            \n",
       "1                                  4521.5                            \n",
       "2                                 1653.78                            \n",
       "3                                16007.06                            \n",
       "4                                45450.08                            \n",
       "...                                   ...                       ...  \n",
       "10319             See DN-4307 (ID#:83920)                    705.79  \n",
       "10320             See DN-4313 (ID#:83921)                    161.71  \n",
       "10321  Freight Included in Commodity Cost                   5284.04  \n",
       "10322  Freight Included in Commodity Cost                    134.03  \n",
       "10323  Freight Included in Commodity Cost                     85.82  \n",
       "\n",
       "[10324 rows x 33 columns]>"
      ]
     },
     "execution_count": 11,
     "metadata": {},
     "output_type": "execute_result"
    }
   ],
   "source": [
    "df.head"
   ]
  },
  {
   "cell_type": "code",
   "execution_count": 12,
   "metadata": {},
   "outputs": [],
   "source": [
    "columns_to_drop = ['Project Code','Managed By','Fulfill Via','Vendor INCO Term','Product Group','Sub Classification','Vendor','Item Description',\n",
    "                   'Molecule/Test Type','Dosage','Dosage Form','PQ #', 'PO / SO #','ASN/DN #','PQ First Sent to Client Date','PO Sent to Vendor Date',\n",
    "                   'Line Item Insurance (USD)', 'Brand', 'Unit of Measure (Per Pack)','Line Item Quantity','Line Item Value','First Line Designation',\n",
    "                   'Weight (Kilograms)','Freight Cost (USD)',\n",
    "                   ]  # List of columns to drop\n"
   ]
  },
  {
   "cell_type": "code",
   "execution_count": 13,
   "metadata": {},
   "outputs": [],
   "source": [
    "\n",
    "df.drop(columns=columns_to_drop, inplace=True)\n"
   ]
  },
  {
   "cell_type": "code",
   "execution_count": 14,
   "metadata": {},
   "outputs": [],
   "source": [
    "df.fillna(\"N/A\", inplace=True)"
   ]
  },
  {
   "cell_type": "code",
   "execution_count": 15,
   "metadata": {},
   "outputs": [],
   "source": [
    "df['Scheduled Delivery Date'] = pd.to_datetime(df['Scheduled Delivery Date'], format='%d-%b-%y')\n",
    "df['Delivered to Client Date'] = pd.to_datetime(df['Delivered to Client Date'], format='%d-%b-%y')\n",
    "df['Delivery Recorded Date'] = pd.to_datetime(df['Delivery Recorded Date'], format='%d-%b-%y')"
   ]
  },
  {
   "cell_type": "code",
   "execution_count": 16,
   "metadata": {},
   "outputs": [
    {
     "data": {
      "text/plain": [
       "array([\"Côte d'Ivoire\", 'Vietnam', 'Nigeria', 'Zambia', 'Tanzania',\n",
       "       'Rwanda', 'Haiti', 'Zimbabwe', 'Ethiopia', 'South Africa',\n",
       "       'Guyana', 'Namibia', 'Botswana', 'Mozambique', 'Kenya',\n",
       "       'Kazakhstan', 'Uganda', 'Kyrgyzstan', 'Senegal', 'Benin',\n",
       "       'Lesotho', 'Pakistan', 'Swaziland', 'Ghana', 'Angola', 'Lebanon',\n",
       "       'Sierra Leone', 'Cameroon', 'South Sudan', 'Burundi',\n",
       "       'Dominican Republic', 'Malawi', 'Congo, DRC', 'Sudan', 'Mali',\n",
       "       'Guatemala', 'Togo', 'Afghanistan', 'Liberia', 'Burkina Faso',\n",
       "       'Guinea', 'Libya', 'Belize'], dtype=object)"
      ]
     },
     "execution_count": 16,
     "metadata": {},
     "output_type": "execute_result"
    }
   ],
   "source": [
    "df['Country'].unique()"
   ]
  },
  {
   "cell_type": "code",
   "execution_count": 17,
   "metadata": {},
   "outputs": [],
   "source": [
    "num_rows_to_drop = 10300\n",
    "\n",
    "# Select random rows\n",
    "random_rows = df.sample(n=num_rows_to_drop, random_state=42)  # Set random_state for reproducibility\n",
    "\n",
    "# Drop selected random rows\n",
    "df.drop(random_rows.index, inplace=True)"
   ]
  },
  {
   "cell_type": "code",
   "execution_count": 18,
   "metadata": {},
   "outputs": [
    {
     "data": {
      "text/plain": [
       "<bound method NDFrame.head of          ID        Country Shipment Mode Scheduled Delivery Date  \\\n",
       "466    4594         Guyana           Air              2008-10-01   \n",
       "769    7847        Namibia           Air              2009-08-18   \n",
       "860    9024   South Africa           Air              2009-04-03   \n",
       "1184  10765        Nigeria   Air Charter              2009-05-08   \n",
       "1685  11510         Zambia           Air              2007-12-24   \n",
       "2433  12561         Zambia         Truck              2008-11-07   \n",
       "2558  12771         Uganda           Air              2008-02-15   \n",
       "3385  25522        Vietnam           Air              2011-02-09   \n",
       "4426  44180       Cameroon           Air              2013-10-18   \n",
       "4555  46464  Côte d'Ivoire           Air              2012-02-17   \n",
       "5051  55322   South Africa           Air              2010-09-07   \n",
       "5191  57997       Tanzania           Air              2013-06-25   \n",
       "5311  60357    South Sudan           Air              2013-11-08   \n",
       "5390  61852         Guyana           Air              2015-08-28   \n",
       "5578  64936        Vietnam           Air              2013-10-03   \n",
       "5734  67225    South Sudan           Air              2015-07-25   \n",
       "6265  76559        Vietnam           Air              2013-02-01   \n",
       "6396  78839        Vietnam           Air              2014-05-30   \n",
       "6420  79445          Sudan           Air              2012-01-06   \n",
       "6949  82694        Nigeria   Air Charter              2014-06-30   \n",
       "7270  83081    South Sudan           Air              2012-11-15   \n",
       "8322  84367         Rwanda         Truck              2014-06-27   \n",
       "8666  84773         Uganda           Air              2013-02-01   \n",
       "9274  85509     Mozambique         Truck              2014-08-29   \n",
       "\n",
       "     Delivered to Client Date Delivery Recorded Date  Pack Price  Unit Price  \\\n",
       "466                2008-10-01             2008-10-01       32.00        1.60   \n",
       "769                2009-08-18             2009-08-18        2.40        0.04   \n",
       "860                2009-04-03             2009-04-03        2.47        0.04   \n",
       "1184               2009-05-08             2009-05-08       26.25        0.88   \n",
       "1685               2007-12-24             2007-12-24       26.25        0.88   \n",
       "2433               2008-11-07             2008-11-07        7.75        0.13   \n",
       "2558               2008-02-15             2008-02-15        7.40        0.12   \n",
       "3385               2011-02-09             2011-02-09        2.43        0.04   \n",
       "4426               2013-10-18             2013-10-18        2.25        0.04   \n",
       "4555               2012-02-17             2012-02-17       80.00        0.80   \n",
       "5051               2010-10-27             2010-10-27        4.67        0.16   \n",
       "5191               2013-06-25             2013-06-25       80.00        0.80   \n",
       "5311               2013-11-08             2013-11-11        5.00        5.00   \n",
       "5390               2015-08-28             2015-08-28      100.00        1.00   \n",
       "5578               2013-10-03             2013-10-04       60.82        0.51   \n",
       "5734               2015-07-25             2015-07-29       32.00        1.60   \n",
       "6265               2013-02-01             2013-02-01        2.25        0.04   \n",
       "6396               2014-05-30             2014-05-31        4.00        0.13   \n",
       "6420               2012-01-06             2012-01-06        8.00        0.08   \n",
       "6949               2014-06-20             2014-06-25        8.11        0.14   \n",
       "7270               2012-10-23             2012-10-23        6.76        0.11   \n",
       "8322               2014-07-06             2014-08-05        4.64        0.15   \n",
       "8666               2013-02-01             2013-02-01        2.42        0.04   \n",
       "9274               2014-08-25             2014-08-28        8.11        0.14   \n",
       "\n",
       "                  Manufacturing Site  \n",
       "466             Trinity Biotech, Plc  \n",
       "769                Cipla, Goa, India  \n",
       "860        Aurobindo Unit III, India  \n",
       "1184   Aspen-OSD, Port Elizabeth, SA  \n",
       "1685   Aspen-OSD, Port Elizabeth, SA  \n",
       "2433       Aurobindo Unit III, India  \n",
       "2558               Cipla, Goa, India  \n",
       "3385    Hetero Unit III Hyderabad IN  \n",
       "4426       Aurobindo Unit III, India  \n",
       "4555         Alere Medical Co., Ltd.  \n",
       "5051       Aurobindo Unit III, India  \n",
       "5191         Alere Medical Co., Ltd.  \n",
       "5311         Alere Medical Co., Ltd.  \n",
       "5390         Alere Medical Co., Ltd.  \n",
       "5578     ABBVIE Ludwigshafen Germany  \n",
       "5734            Trinity Biotech, Plc  \n",
       "6265  Mylan (formerly Matrix) Nashik  \n",
       "6396  Mylan (formerly Matrix) Nashik  \n",
       "6420         Alere Medical Co., Ltd.  \n",
       "6949       Aurobindo Unit III, India  \n",
       "7270    Hetero Unit III Hyderabad IN  \n",
       "8322    Hetero Unit III Hyderabad IN  \n",
       "8666    Hetero Unit III Hyderabad IN  \n",
       "9274  Mylan (formerly Matrix) Nashik  >"
      ]
     },
     "execution_count": 18,
     "metadata": {},
     "output_type": "execute_result"
    }
   ],
   "source": [
    "df.to_csv('test.csv', index=False, encoding='utf-8-sig')\n",
    "df.head"
   ]
  },
  {
   "cell_type": "code",
   "execution_count": 19,
   "metadata": {},
   "outputs": [],
   "source": [
    "df = pd.read_csv(\"modified_dataset.csv\", encoding='latin', keep_default_na=False)"
   ]
  },
  {
   "cell_type": "code",
   "execution_count": 51,
   "metadata": {},
   "outputs": [
    {
     "data": {
      "text/plain": [
       "<bound method NDFrame.head of        ï»¿ID Project Code         Country Managed By  Fulfill Via  \\\n",
       "0          1   100-CI-T01  CÃ´te d'Ivoire   PMO - US  Direct Drop   \n",
       "1          3   108-VN-T01         Vietnam   PMO - US  Direct Drop   \n",
       "2          4   100-CI-T01  CÃ´te d'Ivoire   PMO - US  Direct Drop   \n",
       "3         15   108-VN-T01         Vietnam   PMO - US  Direct Drop   \n",
       "4         16   108-VN-T01         Vietnam   PMO - US  Direct Drop   \n",
       "...      ...          ...             ...        ...          ...   \n",
       "10319  86818   103-ZW-T30        Zimbabwe   PMO - US     From RDC   \n",
       "10320  86819   104-CI-T30  CÃ´te d'Ivoire   PMO - US     From RDC   \n",
       "10321  86821   110-ZM-T30          Zambia   PMO - US     From RDC   \n",
       "10322  86822   200-ZW-T30        Zimbabwe   PMO - US     From RDC   \n",
       "10323  86823   103-ZW-T30        Zimbabwe   PMO - US     From RDC   \n",
       "\n",
       "      Vendor INCO Term Shipment Mode Scheduled Delivery Date  \\\n",
       "0                  EXW           Air                2-Jun-06   \n",
       "1                  EXW           Air               14-Nov-06   \n",
       "2                  FCA           Air               27-Aug-06   \n",
       "3                  EXW           Air                1-Sep-06   \n",
       "4                  EXW           Air               11-Aug-06   \n",
       "...                ...           ...                     ...   \n",
       "10319   N/A - From RDC         Truck               31-Jul-15   \n",
       "10320   N/A - From RDC         Truck               31-Jul-15   \n",
       "10321   N/A - From RDC         Truck               31-Aug-15   \n",
       "10322   N/A - From RDC         Truck                9-Sep-15   \n",
       "10323   N/A - From RDC         Truck               31-Aug-15   \n",
       "\n",
       "      Delivered to Client Date Delivery Recorded Date  ...  \\\n",
       "0                     2-Jun-06               2-Jun-06  ...   \n",
       "1                    14-Nov-06              14-Nov-06  ...   \n",
       "2                    27-Aug-06              27-Aug-06  ...   \n",
       "3                     1-Sep-06               1-Sep-06  ...   \n",
       "4                    11-Aug-06              11-Aug-06  ...   \n",
       "...                        ...                    ...  ...   \n",
       "10319                15-Jul-15              20-Jul-15  ...   \n",
       "10320                 6-Aug-15               7-Aug-15  ...   \n",
       "10321                25-Aug-15               3-Sep-15  ...   \n",
       "10322                 4-Aug-15              11-Aug-15  ...   \n",
       "10323                 4-Aug-15              11-Aug-15  ...   \n",
       "\n",
       "                             Dosage Form Unit of Measure (Per Pack)  \\\n",
       "0                               Test kit                         30   \n",
       "1                        Oral suspension                        240   \n",
       "2                               Test kit                        100   \n",
       "3                                 Tablet                         60   \n",
       "4                                Capsule                         60   \n",
       "...                                  ...                        ...   \n",
       "10319  Chewable/dispersible tablet - FDC                         60   \n",
       "10320                       Tablet - FDC                         60   \n",
       "10321                       Tablet - FDC                         30   \n",
       "10322                       Tablet - FDC                         60   \n",
       "10323  Chewable/dispersible tablet - FDC                         60   \n",
       "\n",
       "      Line Item Quantity Line Item Value Pack Price Unit Price  \\\n",
       "0                     19          551.00      29.00       0.97   \n",
       "1                   1000         6200.00       6.20       0.03   \n",
       "2                    500        40000.00      80.00       0.80   \n",
       "3                  31920       127360.80       3.99       0.07   \n",
       "4                  38000       121600.00       3.20       0.05   \n",
       "...                  ...             ...        ...        ...   \n",
       "10319             166571       599655.60       3.60       0.06   \n",
       "10320              21072       137389.44       6.52       0.11   \n",
       "10321             514526      5140114.74       9.99       0.33   \n",
       "10322              17465       113871.80       6.52       0.11   \n",
       "10323              36639        72911.61       1.99       0.03   \n",
       "\n",
       "                   Manufacturing Site First Line Designation  \\\n",
       "0          Ranbaxy Fine Chemicals LTD                    Yes   \n",
       "1           Aurobindo Unit III, India                    Yes   \n",
       "2       ABBVIE GmbH & Co.KG Wiesbaden                    Yes   \n",
       "3       Ranbaxy, Paonta Shahib, India                    Yes   \n",
       "4           Aurobindo Unit III, India                    Yes   \n",
       "...                               ...                    ...   \n",
       "10319      Mylan,  H-12 & H-13, India                     No   \n",
       "10320    Hetero Unit III Hyderabad IN                     No   \n",
       "10321   Cipla Ltd A-42 MIDC Mahar. IN                     No   \n",
       "10322  Mylan (formerly Matrix) Nashik                    Yes   \n",
       "10323               Cipla, Goa, India                     No   \n",
       "\n",
       "               Weight (Kilograms)                  Freight Cost (USD)  \n",
       "0                              13                              780.34  \n",
       "1                             358                              4521.5  \n",
       "2                             171                             1653.78  \n",
       "3                            1855                            16007.06  \n",
       "4                            7590                            45450.08  \n",
       "...                           ...                                 ...  \n",
       "10319     See DN-4307 (ID#:83920)             See DN-4307 (ID#:83920)  \n",
       "10320     See DN-4313 (ID#:83921)             See DN-4313 (ID#:83921)  \n",
       "10321  Weight Captured Separately  Freight Included in Commodity Cost  \n",
       "10322                        1392  Freight Included in Commodity Cost  \n",
       "10323  Weight Captured Separately  Freight Included in Commodity Cost  \n",
       "\n",
       "[10324 rows x 27 columns]>"
      ]
     },
     "execution_count": 51,
     "metadata": {},
     "output_type": "execute_result"
    }
   ],
   "source": [
    "df.head"
   ]
  },
  {
   "cell_type": "code",
   "execution_count": null,
   "metadata": {},
   "outputs": [],
   "source": []
  }
 ],
 "metadata": {
  "kernelspec": {
   "display_name": "myenv",
   "language": "python",
   "name": "python3"
  },
  "language_info": {
   "codemirror_mode": {
    "name": "ipython",
    "version": 3
   },
   "file_extension": ".py",
   "mimetype": "text/x-python",
   "name": "python",
   "nbconvert_exporter": "python",
   "pygments_lexer": "ipython3",
   "version": "3.10.9"
  }
 },
 "nbformat": 4,
 "nbformat_minor": 2
}
